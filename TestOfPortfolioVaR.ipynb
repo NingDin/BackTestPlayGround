{
 "cells": [
  {
   "cell_type": "code",
   "execution_count": 2,
   "id": "e0c3b087",
   "metadata": {},
   "outputs": [],
   "source": [
    "import yfinance as yf, numpy as np, datetime as dt,matplotlib.pyplot as plt\n",
    "from scipy.stats import norm"
   ]
  },
  {
   "cell_type": "code",
   "execution_count": 3,
   "id": "bbc5d549",
   "metadata": {},
   "outputs": [],
   "source": [
    "tickers=['GOF','CCD','DX','USA','ARCC']\n",
    "weights=np.array([0.3,0.3,0.1,0.1,0.2])"
   ]
  },
  {
   "cell_type": "code",
   "execution_count": 5,
   "id": "ed048a7e",
   "metadata": {},
   "outputs": [
    {
     "name": "stdout",
     "output_type": "stream",
     "text": [
      "[*********************100%***********************]  1 of 1 completed\n"
     ]
    }
   ],
   "source": [
    "start=dt.datetime(2019,1,1)\n",
    "end=dt.datetime.now()\n",
    "# notice how the now function can come into handy\n",
    "df=yf.download('GOF',start,end)"
   ]
  },
  {
   "cell_type": "code",
   "execution_count": 6,
   "id": "e754722e",
   "metadata": {},
   "outputs": [
    {
     "data": {
      "text/html": [
       "<div>\n",
       "<style scoped>\n",
       "    .dataframe tbody tr th:only-of-type {\n",
       "        vertical-align: middle;\n",
       "    }\n",
       "\n",
       "    .dataframe tbody tr th {\n",
       "        vertical-align: top;\n",
       "    }\n",
       "\n",
       "    .dataframe thead th {\n",
       "        text-align: right;\n",
       "    }\n",
       "</style>\n",
       "<table border=\"1\" class=\"dataframe\">\n",
       "  <thead>\n",
       "    <tr style=\"text-align: right;\">\n",
       "      <th></th>\n",
       "      <th>Open</th>\n",
       "      <th>High</th>\n",
       "      <th>Low</th>\n",
       "      <th>Close</th>\n",
       "      <th>Adj Close</th>\n",
       "      <th>Volume</th>\n",
       "    </tr>\n",
       "    <tr>\n",
       "      <th>Date</th>\n",
       "      <th></th>\n",
       "      <th></th>\n",
       "      <th></th>\n",
       "      <th></th>\n",
       "      <th></th>\n",
       "      <th></th>\n",
       "    </tr>\n",
       "  </thead>\n",
       "  <tbody>\n",
       "    <tr>\n",
       "      <th>2019-01-02</th>\n",
       "      <td>18.209999</td>\n",
       "      <td>19.090000</td>\n",
       "      <td>18.139999</td>\n",
       "      <td>18.870001</td>\n",
       "      <td>11.846918</td>\n",
       "      <td>354700</td>\n",
       "    </tr>\n",
       "    <tr>\n",
       "      <th>2019-01-03</th>\n",
       "      <td>18.930000</td>\n",
       "      <td>19.150000</td>\n",
       "      <td>18.660000</td>\n",
       "      <td>18.860001</td>\n",
       "      <td>11.840632</td>\n",
       "      <td>179200</td>\n",
       "    </tr>\n",
       "    <tr>\n",
       "      <th>2019-01-04</th>\n",
       "      <td>19.020000</td>\n",
       "      <td>19.049999</td>\n",
       "      <td>18.700001</td>\n",
       "      <td>18.820000</td>\n",
       "      <td>11.815523</td>\n",
       "      <td>278200</td>\n",
       "    </tr>\n",
       "    <tr>\n",
       "      <th>2019-01-07</th>\n",
       "      <td>18.850000</td>\n",
       "      <td>19.340000</td>\n",
       "      <td>18.850000</td>\n",
       "      <td>19.299999</td>\n",
       "      <td>12.116874</td>\n",
       "      <td>214500</td>\n",
       "    </tr>\n",
       "    <tr>\n",
       "      <th>2019-01-08</th>\n",
       "      <td>19.510000</td>\n",
       "      <td>19.639999</td>\n",
       "      <td>19.340000</td>\n",
       "      <td>19.490000</td>\n",
       "      <td>12.236158</td>\n",
       "      <td>194700</td>\n",
       "    </tr>\n",
       "    <tr>\n",
       "      <th>...</th>\n",
       "      <td>...</td>\n",
       "      <td>...</td>\n",
       "      <td>...</td>\n",
       "      <td>...</td>\n",
       "      <td>...</td>\n",
       "      <td>...</td>\n",
       "    </tr>\n",
       "    <tr>\n",
       "      <th>2022-12-16</th>\n",
       "      <td>15.950000</td>\n",
       "      <td>15.980000</td>\n",
       "      <td>15.800000</td>\n",
       "      <td>15.900000</td>\n",
       "      <td>15.900000</td>\n",
       "      <td>605800</td>\n",
       "    </tr>\n",
       "    <tr>\n",
       "      <th>2022-12-19</th>\n",
       "      <td>15.920000</td>\n",
       "      <td>15.920000</td>\n",
       "      <td>15.660000</td>\n",
       "      <td>15.740000</td>\n",
       "      <td>15.740000</td>\n",
       "      <td>762400</td>\n",
       "    </tr>\n",
       "    <tr>\n",
       "      <th>2022-12-20</th>\n",
       "      <td>15.660000</td>\n",
       "      <td>15.720000</td>\n",
       "      <td>15.520000</td>\n",
       "      <td>15.610000</td>\n",
       "      <td>15.610000</td>\n",
       "      <td>650800</td>\n",
       "    </tr>\n",
       "    <tr>\n",
       "      <th>2022-12-21</th>\n",
       "      <td>15.660000</td>\n",
       "      <td>15.790000</td>\n",
       "      <td>15.590000</td>\n",
       "      <td>15.660000</td>\n",
       "      <td>15.660000</td>\n",
       "      <td>514700</td>\n",
       "    </tr>\n",
       "    <tr>\n",
       "      <th>2022-12-22</th>\n",
       "      <td>15.610000</td>\n",
       "      <td>15.690000</td>\n",
       "      <td>15.460000</td>\n",
       "      <td>15.620000</td>\n",
       "      <td>15.620000</td>\n",
       "      <td>788400</td>\n",
       "    </tr>\n",
       "  </tbody>\n",
       "</table>\n",
       "<p>1003 rows × 6 columns</p>\n",
       "</div>"
      ],
      "text/plain": [
       "                 Open       High        Low      Close  Adj Close  Volume\n",
       "Date                                                                     \n",
       "2019-01-02  18.209999  19.090000  18.139999  18.870001  11.846918  354700\n",
       "2019-01-03  18.930000  19.150000  18.660000  18.860001  11.840632  179200\n",
       "2019-01-04  19.020000  19.049999  18.700001  18.820000  11.815523  278200\n",
       "2019-01-07  18.850000  19.340000  18.850000  19.299999  12.116874  214500\n",
       "2019-01-08  19.510000  19.639999  19.340000  19.490000  12.236158  194700\n",
       "...               ...        ...        ...        ...        ...     ...\n",
       "2022-12-16  15.950000  15.980000  15.800000  15.900000  15.900000  605800\n",
       "2022-12-19  15.920000  15.920000  15.660000  15.740000  15.740000  762400\n",
       "2022-12-20  15.660000  15.720000  15.520000  15.610000  15.610000  650800\n",
       "2022-12-21  15.660000  15.790000  15.590000  15.660000  15.660000  514700\n",
       "2022-12-22  15.610000  15.690000  15.460000  15.620000  15.620000  788400\n",
       "\n",
       "[1003 rows x 6 columns]"
      ]
     },
     "execution_count": 6,
     "metadata": {},
     "output_type": "execute_result"
    }
   ],
   "source": [
    "df"
   ]
  },
  {
   "cell_type": "code",
   "execution_count": 7,
   "id": "ce760f30",
   "metadata": {},
   "outputs": [
    {
     "name": "stdout",
     "output_type": "stream",
     "text": [
      "[*********************100%***********************]  5 of 5 completed\n"
     ]
    }
   ],
   "source": [
    "# to having the df for portfolio\n",
    "# we can do as below:\n",
    "dfall=yf.download(tickers,start,end)['Adj Close']"
   ]
  },
  {
   "cell_type": "code",
   "execution_count": 8,
   "id": "51ec76f1",
   "metadata": {},
   "outputs": [
    {
     "data": {
      "text/html": [
       "<div>\n",
       "<style scoped>\n",
       "    .dataframe tbody tr th:only-of-type {\n",
       "        vertical-align: middle;\n",
       "    }\n",
       "\n",
       "    .dataframe tbody tr th {\n",
       "        vertical-align: top;\n",
       "    }\n",
       "\n",
       "    .dataframe thead th {\n",
       "        text-align: right;\n",
       "    }\n",
       "</style>\n",
       "<table border=\"1\" class=\"dataframe\">\n",
       "  <thead>\n",
       "    <tr style=\"text-align: right;\">\n",
       "      <th></th>\n",
       "      <th>ARCC</th>\n",
       "      <th>CCD</th>\n",
       "      <th>DX</th>\n",
       "      <th>GOF</th>\n",
       "      <th>USA</th>\n",
       "    </tr>\n",
       "    <tr>\n",
       "      <th>Date</th>\n",
       "      <th></th>\n",
       "      <th></th>\n",
       "      <th></th>\n",
       "      <th></th>\n",
       "      <th></th>\n",
       "    </tr>\n",
       "  </thead>\n",
       "  <tbody>\n",
       "    <tr>\n",
       "      <th>2019-01-02</th>\n",
       "      <td>10.592238</td>\n",
       "      <td>11.867771</td>\n",
       "      <td>11.536770</td>\n",
       "      <td>11.846917</td>\n",
       "      <td>3.612476</td>\n",
       "    </tr>\n",
       "    <tr>\n",
       "      <th>2019-01-03</th>\n",
       "      <td>10.448638</td>\n",
       "      <td>11.783597</td>\n",
       "      <td>11.714561</td>\n",
       "      <td>11.840635</td>\n",
       "      <td>3.545328</td>\n",
       "    </tr>\n",
       "    <tr>\n",
       "      <th>2019-01-04</th>\n",
       "      <td>10.776867</td>\n",
       "      <td>12.092220</td>\n",
       "      <td>11.931864</td>\n",
       "      <td>11.815523</td>\n",
       "      <td>3.612476</td>\n",
       "    </tr>\n",
       "    <tr>\n",
       "      <th>2019-01-07</th>\n",
       "      <td>11.002526</td>\n",
       "      <td>12.477990</td>\n",
       "      <td>12.149167</td>\n",
       "      <td>12.116876</td>\n",
       "      <td>3.706480</td>\n",
       "    </tr>\n",
       "    <tr>\n",
       "      <th>2019-01-08</th>\n",
       "      <td>11.214507</td>\n",
       "      <td>12.590217</td>\n",
       "      <td>12.168919</td>\n",
       "      <td>12.236160</td>\n",
       "      <td>3.766912</td>\n",
       "    </tr>\n",
       "    <tr>\n",
       "      <th>...</th>\n",
       "      <td>...</td>\n",
       "      <td>...</td>\n",
       "      <td>...</td>\n",
       "      <td>...</td>\n",
       "      <td>...</td>\n",
       "    </tr>\n",
       "    <tr>\n",
       "      <th>2022-12-16</th>\n",
       "      <td>18.360001</td>\n",
       "      <td>20.980000</td>\n",
       "      <td>12.820400</td>\n",
       "      <td>15.900000</td>\n",
       "      <td>5.880000</td>\n",
       "    </tr>\n",
       "    <tr>\n",
       "      <th>2022-12-19</th>\n",
       "      <td>17.980000</td>\n",
       "      <td>20.700001</td>\n",
       "      <td>12.909500</td>\n",
       "      <td>15.740000</td>\n",
       "      <td>5.820000</td>\n",
       "    </tr>\n",
       "    <tr>\n",
       "      <th>2022-12-20</th>\n",
       "      <td>18.379999</td>\n",
       "      <td>20.830000</td>\n",
       "      <td>12.959000</td>\n",
       "      <td>15.610000</td>\n",
       "      <td>5.810000</td>\n",
       "    </tr>\n",
       "    <tr>\n",
       "      <th>2022-12-21</th>\n",
       "      <td>18.629999</td>\n",
       "      <td>20.910000</td>\n",
       "      <td>12.860000</td>\n",
       "      <td>15.660000</td>\n",
       "      <td>5.830000</td>\n",
       "    </tr>\n",
       "    <tr>\n",
       "      <th>2022-12-22</th>\n",
       "      <td>18.180000</td>\n",
       "      <td>20.700001</td>\n",
       "      <td>12.940000</td>\n",
       "      <td>15.620000</td>\n",
       "      <td>5.810000</td>\n",
       "    </tr>\n",
       "  </tbody>\n",
       "</table>\n",
       "<p>1003 rows × 5 columns</p>\n",
       "</div>"
      ],
      "text/plain": [
       "                 ARCC        CCD         DX        GOF       USA\n",
       "Date                                                            \n",
       "2019-01-02  10.592238  11.867771  11.536770  11.846917  3.612476\n",
       "2019-01-03  10.448638  11.783597  11.714561  11.840635  3.545328\n",
       "2019-01-04  10.776867  12.092220  11.931864  11.815523  3.612476\n",
       "2019-01-07  11.002526  12.477990  12.149167  12.116876  3.706480\n",
       "2019-01-08  11.214507  12.590217  12.168919  12.236160  3.766912\n",
       "...               ...        ...        ...        ...       ...\n",
       "2022-12-16  18.360001  20.980000  12.820400  15.900000  5.880000\n",
       "2022-12-19  17.980000  20.700001  12.909500  15.740000  5.820000\n",
       "2022-12-20  18.379999  20.830000  12.959000  15.610000  5.810000\n",
       "2022-12-21  18.629999  20.910000  12.860000  15.660000  5.830000\n",
       "2022-12-22  18.180000  20.700001  12.940000  15.620000  5.810000\n",
       "\n",
       "[1003 rows x 5 columns]"
      ]
     },
     "execution_count": 8,
     "metadata": {},
     "output_type": "execute_result"
    }
   ],
   "source": [
    "dfall"
   ]
  },
  {
   "cell_type": "code",
   "execution_count": 12,
   "id": "52016806",
   "metadata": {},
   "outputs": [],
   "source": [
    "returns=dfall.pct_change() # build in function or dir"
   ]
  },
  {
   "cell_type": "code",
   "execution_count": 13,
   "id": "bba7e7da",
   "metadata": {},
   "outputs": [
    {
     "data": {
      "text/html": [
       "<div>\n",
       "<style scoped>\n",
       "    .dataframe tbody tr th:only-of-type {\n",
       "        vertical-align: middle;\n",
       "    }\n",
       "\n",
       "    .dataframe tbody tr th {\n",
       "        vertical-align: top;\n",
       "    }\n",
       "\n",
       "    .dataframe thead th {\n",
       "        text-align: right;\n",
       "    }\n",
       "</style>\n",
       "<table border=\"1\" class=\"dataframe\">\n",
       "  <thead>\n",
       "    <tr style=\"text-align: right;\">\n",
       "      <th></th>\n",
       "      <th>ARCC</th>\n",
       "      <th>CCD</th>\n",
       "      <th>DX</th>\n",
       "      <th>GOF</th>\n",
       "      <th>USA</th>\n",
       "    </tr>\n",
       "    <tr>\n",
       "      <th>Date</th>\n",
       "      <th></th>\n",
       "      <th></th>\n",
       "      <th></th>\n",
       "      <th></th>\n",
       "      <th></th>\n",
       "    </tr>\n",
       "  </thead>\n",
       "  <tbody>\n",
       "    <tr>\n",
       "      <th>2019-01-02</th>\n",
       "      <td>NaN</td>\n",
       "      <td>NaN</td>\n",
       "      <td>NaN</td>\n",
       "      <td>NaN</td>\n",
       "      <td>NaN</td>\n",
       "    </tr>\n",
       "    <tr>\n",
       "      <th>2019-01-03</th>\n",
       "      <td>-0.013557</td>\n",
       "      <td>-0.007093</td>\n",
       "      <td>0.015411</td>\n",
       "      <td>-0.000530</td>\n",
       "      <td>-0.018588</td>\n",
       "    </tr>\n",
       "    <tr>\n",
       "      <th>2019-01-04</th>\n",
       "      <td>0.031414</td>\n",
       "      <td>0.026191</td>\n",
       "      <td>0.018550</td>\n",
       "      <td>-0.002121</td>\n",
       "      <td>0.018940</td>\n",
       "    </tr>\n",
       "    <tr>\n",
       "      <th>2019-01-07</th>\n",
       "      <td>0.020939</td>\n",
       "      <td>0.031902</td>\n",
       "      <td>0.018212</td>\n",
       "      <td>0.025505</td>\n",
       "      <td>0.026022</td>\n",
       "    </tr>\n",
       "    <tr>\n",
       "      <th>2019-01-08</th>\n",
       "      <td>0.019267</td>\n",
       "      <td>0.008994</td>\n",
       "      <td>0.001626</td>\n",
       "      <td>0.009845</td>\n",
       "      <td>0.016304</td>\n",
       "    </tr>\n",
       "    <tr>\n",
       "      <th>...</th>\n",
       "      <td>...</td>\n",
       "      <td>...</td>\n",
       "      <td>...</td>\n",
       "      <td>...</td>\n",
       "      <td>...</td>\n",
       "    </tr>\n",
       "    <tr>\n",
       "      <th>2022-12-16</th>\n",
       "      <td>-0.012903</td>\n",
       "      <td>-0.008038</td>\n",
       "      <td>-0.018939</td>\n",
       "      <td>-0.005629</td>\n",
       "      <td>-0.013423</td>\n",
       "    </tr>\n",
       "    <tr>\n",
       "      <th>2022-12-19</th>\n",
       "      <td>-0.020697</td>\n",
       "      <td>-0.013346</td>\n",
       "      <td>0.006950</td>\n",
       "      <td>-0.010063</td>\n",
       "      <td>-0.010204</td>\n",
       "    </tr>\n",
       "    <tr>\n",
       "      <th>2022-12-20</th>\n",
       "      <td>0.022247</td>\n",
       "      <td>0.006280</td>\n",
       "      <td>0.003834</td>\n",
       "      <td>-0.008259</td>\n",
       "      <td>-0.001718</td>\n",
       "    </tr>\n",
       "    <tr>\n",
       "      <th>2022-12-21</th>\n",
       "      <td>0.013602</td>\n",
       "      <td>0.003841</td>\n",
       "      <td>-0.007639</td>\n",
       "      <td>0.003203</td>\n",
       "      <td>0.003442</td>\n",
       "    </tr>\n",
       "    <tr>\n",
       "      <th>2022-12-22</th>\n",
       "      <td>-0.024155</td>\n",
       "      <td>-0.010043</td>\n",
       "      <td>0.006221</td>\n",
       "      <td>-0.002554</td>\n",
       "      <td>-0.003431</td>\n",
       "    </tr>\n",
       "  </tbody>\n",
       "</table>\n",
       "<p>1003 rows × 5 columns</p>\n",
       "</div>"
      ],
      "text/plain": [
       "                ARCC       CCD        DX       GOF       USA\n",
       "Date                                                        \n",
       "2019-01-02       NaN       NaN       NaN       NaN       NaN\n",
       "2019-01-03 -0.013557 -0.007093  0.015411 -0.000530 -0.018588\n",
       "2019-01-04  0.031414  0.026191  0.018550 -0.002121  0.018940\n",
       "2019-01-07  0.020939  0.031902  0.018212  0.025505  0.026022\n",
       "2019-01-08  0.019267  0.008994  0.001626  0.009845  0.016304\n",
       "...              ...       ...       ...       ...       ...\n",
       "2022-12-16 -0.012903 -0.008038 -0.018939 -0.005629 -0.013423\n",
       "2022-12-19 -0.020697 -0.013346  0.006950 -0.010063 -0.010204\n",
       "2022-12-20  0.022247  0.006280  0.003834 -0.008259 -0.001718\n",
       "2022-12-21  0.013602  0.003841 -0.007639  0.003203  0.003442\n",
       "2022-12-22 -0.024155 -0.010043  0.006221 -0.002554 -0.003431\n",
       "\n",
       "[1003 rows x 5 columns]"
      ]
     },
     "execution_count": 13,
     "metadata": {},
     "output_type": "execute_result"
    }
   ],
   "source": [
    "returns # here is the daily return by defult "
   ]
  },
  {
   "cell_type": "code",
   "execution_count": 14,
   "id": "b84113f3",
   "metadata": {},
   "outputs": [
    {
     "data": {
      "text/html": [
       "<div>\n",
       "<style scoped>\n",
       "    .dataframe tbody tr th:only-of-type {\n",
       "        vertical-align: middle;\n",
       "    }\n",
       "\n",
       "    .dataframe tbody tr th {\n",
       "        vertical-align: top;\n",
       "    }\n",
       "\n",
       "    .dataframe thead th {\n",
       "        text-align: right;\n",
       "    }\n",
       "</style>\n",
       "<table border=\"1\" class=\"dataframe\">\n",
       "  <thead>\n",
       "    <tr style=\"text-align: right;\">\n",
       "      <th></th>\n",
       "      <th>ARCC</th>\n",
       "      <th>CCD</th>\n",
       "      <th>DX</th>\n",
       "      <th>GOF</th>\n",
       "      <th>USA</th>\n",
       "    </tr>\n",
       "  </thead>\n",
       "  <tbody>\n",
       "    <tr>\n",
       "      <th>ARCC</th>\n",
       "      <td>0.000497</td>\n",
       "      <td>0.000338</td>\n",
       "      <td>0.000283</td>\n",
       "      <td>0.000205</td>\n",
       "      <td>0.000301</td>\n",
       "    </tr>\n",
       "    <tr>\n",
       "      <th>CCD</th>\n",
       "      <td>0.000338</td>\n",
       "      <td>0.000487</td>\n",
       "      <td>0.000302</td>\n",
       "      <td>0.000233</td>\n",
       "      <td>0.000320</td>\n",
       "    </tr>\n",
       "    <tr>\n",
       "      <th>DX</th>\n",
       "      <td>0.000283</td>\n",
       "      <td>0.000302</td>\n",
       "      <td>0.000658</td>\n",
       "      <td>0.000157</td>\n",
       "      <td>0.000263</td>\n",
       "    </tr>\n",
       "    <tr>\n",
       "      <th>GOF</th>\n",
       "      <td>0.000205</td>\n",
       "      <td>0.000233</td>\n",
       "      <td>0.000157</td>\n",
       "      <td>0.000228</td>\n",
       "      <td>0.000174</td>\n",
       "    </tr>\n",
       "    <tr>\n",
       "      <th>USA</th>\n",
       "      <td>0.000301</td>\n",
       "      <td>0.000320</td>\n",
       "      <td>0.000263</td>\n",
       "      <td>0.000174</td>\n",
       "      <td>0.000365</td>\n",
       "    </tr>\n",
       "  </tbody>\n",
       "</table>\n",
       "</div>"
      ],
      "text/plain": [
       "          ARCC       CCD        DX       GOF       USA\n",
       "ARCC  0.000497  0.000338  0.000283  0.000205  0.000301\n",
       "CCD   0.000338  0.000487  0.000302  0.000233  0.000320\n",
       "DX    0.000283  0.000302  0.000658  0.000157  0.000263\n",
       "GOF   0.000205  0.000233  0.000157  0.000228  0.000174\n",
       "USA   0.000301  0.000320  0.000263  0.000174  0.000365"
      ]
     },
     "execution_count": 14,
     "metadata": {},
     "output_type": "execute_result"
    }
   ],
   "source": [
    "#HERE to calculate coveriance matrix\n",
    "cov_matrix=returns.cov()\n",
    "cov_matrix"
   ]
  },
  {
   "cell_type": "code",
   "execution_count": 15,
   "id": "3efbd193",
   "metadata": {},
   "outputs": [
    {
     "data": {
      "text/plain": [
       "ARCC    0.000793\n",
       "CCD     0.000807\n",
       "DX      0.000438\n",
       "GOF     0.000395\n",
       "USA     0.000661\n",
       "dtype: float64"
      ]
     },
     "execution_count": 15,
     "metadata": {},
     "output_type": "execute_result"
    }
   ],
   "source": [
    "avg_returns=returns.mean()\n",
    "avg_returns"
   ]
  },
  {
   "cell_type": "code",
   "execution_count": 16,
   "id": "20c43998",
   "metadata": {},
   "outputs": [
    {
     "data": {
      "text/plain": [
       "ARCC    1002\n",
       "CCD     1002\n",
       "DX      1002\n",
       "GOF     1002\n",
       "USA     1002\n",
       "dtype: int64"
      ]
     },
     "execution_count": 16,
     "metadata": {},
     "output_type": "execute_result"
    }
   ],
   "source": [
    "count=returns.count()\n",
    "count"
   ]
  },
  {
   "cell_type": "code",
   "execution_count": 17,
   "id": "47d2b0c9",
   "metadata": {},
   "outputs": [
    {
     "data": {
      "text/plain": [
       "1002"
      ]
     },
     "execution_count": 17,
     "metadata": {},
     "output_type": "execute_result"
    }
   ],
   "source": [
    "count[0]"
   ]
  },
  {
   "cell_type": "code",
   "execution_count": 21,
   "id": "d4610037",
   "metadata": {},
   "outputs": [],
   "source": [
    "#note here we use @ to assign the weight\n",
    "portfolio_mean=avg_returns@weights\n",
    "portfolio_std=np.sqrt(weights.T@ cov_matrix@weights)"
   ]
  },
  {
   "cell_type": "code",
   "execution_count": 22,
   "id": "e876631d",
   "metadata": {},
   "outputs": [
    {
     "data": {
      "text/plain": [
       "0.0006954919301130848"
      ]
     },
     "execution_count": 22,
     "metadata": {},
     "output_type": "execute_result"
    }
   ],
   "source": [
    "# note here is the calculated daily return\n",
    "portfolio_mean"
   ]
  },
  {
   "cell_type": "code",
   "execution_count": 24,
   "id": "f0330b81",
   "metadata": {},
   "outputs": [
    {
     "data": {
      "text/plain": [
       "0.018148685256449366"
      ]
     },
     "execution_count": 24,
     "metadata": {},
     "output_type": "execute_result"
    }
   ],
   "source": [
    "portfolio_std"
   ]
  },
  {
   "cell_type": "code",
   "execution_count": 26,
   "id": "4bd2db5b",
   "metadata": {
    "scrolled": true
   },
   "outputs": [
    {
     "data": {
      "text/plain": [
       "array([-5.00000000e-02, -4.90000000e-02, -4.80000000e-02, -4.70000000e-02,\n",
       "       -4.60000000e-02, -4.50000000e-02, -4.40000000e-02, -4.30000000e-02,\n",
       "       -4.20000000e-02, -4.10000000e-02, -4.00000000e-02, -3.90000000e-02,\n",
       "       -3.80000000e-02, -3.70000000e-02, -3.60000000e-02, -3.50000000e-02,\n",
       "       -3.40000000e-02, -3.30000000e-02, -3.20000000e-02, -3.10000000e-02,\n",
       "       -3.00000000e-02, -2.90000000e-02, -2.80000000e-02, -2.70000000e-02,\n",
       "       -2.60000000e-02, -2.50000000e-02, -2.40000000e-02, -2.30000000e-02,\n",
       "       -2.20000000e-02, -2.10000000e-02, -2.00000000e-02, -1.90000000e-02,\n",
       "       -1.80000000e-02, -1.70000000e-02, -1.60000000e-02, -1.50000000e-02,\n",
       "       -1.40000000e-02, -1.30000000e-02, -1.20000000e-02, -1.10000000e-02,\n",
       "       -1.00000000e-02, -9.00000000e-03, -8.00000000e-03, -7.00000000e-03,\n",
       "       -6.00000000e-03, -5.00000000e-03, -4.00000000e-03, -3.00000000e-03,\n",
       "       -2.00000000e-03, -1.00000000e-03,  4.16333634e-17,  1.00000000e-03,\n",
       "        2.00000000e-03,  3.00000000e-03,  4.00000000e-03,  5.00000000e-03,\n",
       "        6.00000000e-03,  7.00000000e-03,  8.00000000e-03,  9.00000000e-03,\n",
       "        1.00000000e-02,  1.10000000e-02,  1.20000000e-02,  1.30000000e-02,\n",
       "        1.40000000e-02,  1.50000000e-02,  1.60000000e-02,  1.70000000e-02,\n",
       "        1.80000000e-02,  1.90000000e-02,  2.00000000e-02,  2.10000000e-02,\n",
       "        2.20000000e-02,  2.30000000e-02,  2.40000000e-02,  2.50000000e-02,\n",
       "        2.60000000e-02,  2.70000000e-02,  2.80000000e-02,  2.90000000e-02,\n",
       "        3.00000000e-02,  3.10000000e-02,  3.20000000e-02,  3.30000000e-02,\n",
       "        3.40000000e-02,  3.50000000e-02,  3.60000000e-02,  3.70000000e-02,\n",
       "        3.80000000e-02,  3.90000000e-02,  4.00000000e-02,  4.10000000e-02,\n",
       "        4.20000000e-02,  4.30000000e-02,  4.40000000e-02,  4.50000000e-02,\n",
       "        4.60000000e-02,  4.70000000e-02,  4.80000000e-02,  4.90000000e-02])"
      ]
     },
     "execution_count": 26,
     "metadata": {},
     "output_type": "execute_result"
    }
   ],
   "source": [
    "# note arrange give even interval good for x aixes\n",
    "x=np.arange(-0.05,0.05,0.001)\n",
    "x"
   ]
  },
  {
   "cell_type": "code",
   "execution_count": 28,
   "id": "8d95b3ef",
   "metadata": {},
   "outputs": [],
   "source": [
    "#pdf probability density function\n",
    "norm_dist=norm.pdf(x,portfolio_mean,portfolio_std)"
   ]
  },
  {
   "cell_type": "code",
   "execution_count": 29,
   "id": "c2fbfa4a",
   "metadata": {},
   "outputs": [
    {
     "data": {
      "text/plain": [
       "[<matplotlib.lines.Line2D at 0x25a57d6cb50>]"
      ]
     },
     "execution_count": 29,
     "metadata": {},
     "output_type": "execute_result"
    },
    {
     "data": {
      "image/png": "[encoded data removed]",
      "text/plain": [
       "<Figure size 432x288 with 1 Axes>"
      ]
     },
     "metadata": {
      "needs_background": "light"
     },
     "output_type": "display_data"
    }
   ],
   "source": [
    "plt.plot(x,norm_dist,c='g')"
   ]
  },
  {
   "cell_type": "code",
   "execution_count": 30,
   "id": "1149cfed",
   "metadata": {},
   "outputs": [
    {
     "data": {
      "text/plain": [
       "-0.02915643883835838"
      ]
     },
     "execution_count": 30,
     "metadata": {},
     "output_type": "execute_result"
    }
   ],
   "source": [
    "#percentage function\n",
    "confidence_lv=0.05\n",
    "Var=norm.ppf(confidence_lv,portfolio_mean,portfolio_std)\n",
    "Var"
   ]
  },
  {
   "cell_type": "code",
   "execution_count": 32,
   "id": "0f9e4683",
   "metadata": {},
   "outputs": [
    {
     "data": {
      "text/plain": [
       "-0.13361158797212758"
      ]
     },
     "execution_count": 32,
     "metadata": {},
     "output_type": "execute_result"
    }
   ],
   "source": [
    "# to see var for a period time eg a month \n",
    "num_days=21 # assume 21 trading days in a month \n",
    "period_var=Var*np.sqrt(num_days) # note here has to be sqrt\n",
    "period_var"
   ]
  },
  {
   "cell_type": "code",
   "execution_count": 33,
   "id": "dc53b3a3",
   "metadata": {},
   "outputs": [],
   "source": [
    "# calculate the range with confidence interval\n",
    "lower=portfolio_mean-2*portfolio_std/np.sqrt(count[0])\n",
    "higher=portfolio_mean+2*portfolio_std/np.sqrt(count[0])"
   ]
  },
  {
   "cell_type": "code",
   "execution_count": 34,
   "id": "a0b58955",
   "metadata": {},
   "outputs": [
    {
     "data": {
      "text/plain": [
       "-0.0004511856040768107"
      ]
     },
     "execution_count": 34,
     "metadata": {},
     "output_type": "execute_result"
    }
   ],
   "source": [
    "lower"
   ]
  },
  {
   "cell_type": "code",
   "execution_count": 35,
   "id": "fd8e3d59",
   "metadata": {},
   "outputs": [
    {
     "data": {
      "text/plain": [
       "0.0018421694643029802"
      ]
     },
     "execution_count": 35,
     "metadata": {},
     "output_type": "execute_result"
    }
   ],
   "source": [
    "higher"
   ]
  },
  {
   "attachments": {
    "image.png": {
     "image/png": "[encoded data removed]"
    }
   },
   "cell_type": "markdown",
   "id": "943809c0",
   "metadata": {},
   "source": [
    "#![image.png](attachment:image.png)"
   ]
  },
  {
   "cell_type": "code",
   "execution_count": null,
   "id": "7a31574b",
   "metadata": {},
   "outputs": [],
   "source": [
    "#refer above fo confidence interval"
   ]
  }
 ],
 "metadata": {
  "kernelspec": {
   "display_name": "Python 3 (ipykernel)",
   "language": "python",
   "name": "python3"
  },
  "language_info": {
   "codemirror_mode": {
    "name": "ipython",
    "version": 3
   },
   "file_extension": ".py",
   "mimetype": "text/x-python",
   "name": "python",
   "nbconvert_exporter": "python",
   "pygments_lexer": "ipython3",
   "version": "3.9.12"
  }
 },
 "nbformat": 4,
 "nbformat_minor": 5
}
