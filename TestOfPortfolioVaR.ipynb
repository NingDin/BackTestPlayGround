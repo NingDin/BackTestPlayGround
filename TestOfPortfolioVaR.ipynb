{
 "cells": [
  {
   "cell_type": "code",
   "execution_count": 2,
   "id": "cfc39baa",
   "metadata": {},
   "outputs": [],
   "source": [
    "import yfinance as yf, numpy as np, datetime as dt,matplotlib.pyplot as plt\n",
    "from scipy.stats import norm"
   ]
  },
  {
   "cell_type": "code",
   "execution_count": 3,
   "id": "4a8da89e",
   "metadata": {},
   "outputs": [],
   "source": [
    "tickers=['GOF','CCD','DX','USA','ARCC']\n",
    "weights=np.array([0.3,0.3,0.1,0.1,0.2])"
   ]
  },
  {
   "cell_type": "code",
   "execution_count": 5,
   "id": "1e764a4b",
   "metadata": {},
   "outputs": [
    {
     "name": "stdout",
     "output_type": "stream",
     "text": [
      "[*********************100%***********************]  1 of 1 completed\n"
     ]
    }
   ],
   "source": [
    "start=dt.datetime(2019,1,1)\n",
    "end=dt.datetime.now()\n",
    "# notice how the now function can come into handy\n",
    "df=yf.download('GOF',start,end)"
   ]
  },
  {
   "cell_type": "code",
   "execution_count": 6,
   "id": "64995210",
   "metadata": {},
   "outputs": [
    {
     "data": {
      "text/html": [
       "<div>\n",
       "<style scoped>\n",
       "    .dataframe tbody tr th:only-of-type {\n",
       "        vertical-align: middle;\n",
       "    }\n",
       "\n",
       "    .dataframe tbody tr th {\n",
       "        vertical-align: top;\n",
       "    }\n",
       "\n",
       "    .dataframe thead th {\n",
       "        text-align: right;\n",
       "    }\n",
       "</style>\n",
       "<table border=\"1\" class=\"dataframe\">\n",
       "  <thead>\n",
       "    <tr style=\"text-align: right;\">\n",
       "      <th></th>\n",
       "      <th>Open</th>\n",
       "      <th>High</th>\n",
       "      <th>Low</th>\n",
       "      <th>Close</th>\n",
       "      <th>Adj Close</th>\n",
       "      <th>Volume</th>\n",
       "    </tr>\n",
       "    <tr>\n",
       "      <th>Date</th>\n",
       "      <th></th>\n",
       "      <th></th>\n",
       "      <th></th>\n",
       "      <th></th>\n",
       "      <th></th>\n",
       "      <th></th>\n",
       "    </tr>\n",
       "  </thead>\n",
       "  <tbody>\n",
       "    <tr>\n",
       "      <th>2019-01-02</th>\n",
       "      <td>18.209999</td>\n",
       "      <td>19.090000</td>\n",
       "      <td>18.139999</td>\n",
       "      <td>18.870001</td>\n",
       "      <td>11.846918</td>\n",
       "      <td>354700</td>\n",
       "    </tr>\n",
       "    <tr>\n",
       "      <th>2019-01-03</th>\n",
       "      <td>18.930000</td>\n",
       "      <td>19.150000</td>\n",
       "      <td>18.660000</td>\n",
       "      <td>18.860001</td>\n",
       "      <td>11.840632</td>\n",
       "      <td>179200</td>\n",
       "    </tr>\n",
       "    <tr>\n",
       "      <th>2019-01-04</th>\n",
       "      <td>19.020000</td>\n",
       "      <td>19.049999</td>\n",
       "      <td>18.700001</td>\n",
       "      <td>18.820000</td>\n",
       "      <td>11.815523</td>\n",
       "      <td>278200</td>\n",
       "    </tr>\n",
       "    <tr>\n",
       "      <th>2019-01-07</th>\n",
       "      <td>18.850000</td>\n",
       "      <td>19.340000</td>\n",
       "      <td>18.850000</td>\n",
       "      <td>19.299999</td>\n",
       "      <td>12.116874</td>\n",
       "      <td>214500</td>\n",
       "    </tr>\n",
       "    <tr>\n",
       "      <th>2019-01-08</th>\n",
       "      <td>19.510000</td>\n",
       "      <td>19.639999</td>\n",
       "      <td>19.340000</td>\n",
       "      <td>19.490000</td>\n",
       "      <td>12.236158</td>\n",
       "      <td>194700</td>\n",
       "    </tr>\n",
       "    <tr>\n",
       "      <th>...</th>\n",
       "      <td>...</td>\n",
       "      <td>...</td>\n",
       "      <td>...</td>\n",
       "      <td>...</td>\n",
       "      <td>...</td>\n",
       "      <td>...</td>\n",
       "    </tr>\n",
       "    <tr>\n",
       "      <th>2022-12-16</th>\n",
       "      <td>15.950000</td>\n",
       "      <td>15.980000</td>\n",
       "      <td>15.800000</td>\n",
       "      <td>15.900000</td>\n",
       "      <td>15.900000</td>\n",
       "      <td>605800</td>\n",
       "    </tr>\n",
       "    <tr>\n",
       "      <th>2022-12-19</th>\n",
       "      <td>15.920000</td>\n",
       "      <td>15.920000</td>\n",
       "      <td>15.660000</td>\n",
       "      <td>15.740000</td>\n",
       "      <td>15.740000</td>\n",
       "      <td>762400</td>\n",
       "    </tr>\n",
       "    <tr>\n",
       "      <th>2022-12-20</th>\n",
       "      <td>15.660000</td>\n",
       "      <td>15.720000</td>\n",
       "      <td>15.520000</td>\n",
       "      <td>15.610000</td>\n",
       "      <td>15.610000</td>\n",
       "      <td>650800</td>\n",
       "    </tr>\n",
       "    <tr>\n",
       "      <th>2022-12-21</th>\n",
       "      <td>15.660000</td>\n",
       "      <td>15.790000</td>\n",
       "      <td>15.590000</td>\n",
       "      <td>15.660000</td>\n",
       "      <td>15.660000</td>\n",
       "      <td>514700</td>\n",
       "    </tr>\n",
       "    <tr>\n",
       "      <th>2022-12-22</th>\n",
       "      <td>15.610000</td>\n",
       "      <td>15.690000</td>\n",
       "      <td>15.460000</td>\n",
       "      <td>15.620000</td>\n",
       "      <td>15.620000</td>\n",
       "      <td>788400</td>\n",
       "    </tr>\n",
       "  </tbody>\n",
       "</table>\n",
       "<p>1003 rows × 6 columns</p>\n",
       "</div>"
      ],
      "text/plain": [
       "                 Open       High        Low      Close  Adj Close  Volume\n",
       "Date                                                                     \n",
       "2019-01-02  18.209999  19.090000  18.139999  18.870001  11.846918  354700\n",
       "2019-01-03  18.930000  19.150000  18.660000  18.860001  11.840632  179200\n",
       "2019-01-04  19.020000  19.049999  18.700001  18.820000  11.815523  278200\n",
       "2019-01-07  18.850000  19.340000  18.850000  19.299999  12.116874  214500\n",
       "2019-01-08  19.510000  19.639999  19.340000  19.490000  12.236158  194700\n",
       "...               ...        ...        ...        ...        ...     ...\n",
       "2022-12-16  15.950000  15.980000  15.800000  15.900000  15.900000  605800\n",
       "2022-12-19  15.920000  15.920000  15.660000  15.740000  15.740000  762400\n",
       "2022-12-20  15.660000  15.720000  15.520000  15.610000  15.610000  650800\n",
       "2022-12-21  15.660000  15.790000  15.590000  15.660000  15.660000  514700\n",
       "2022-12-22  15.610000  15.690000  15.460000  15.620000  15.620000  788400\n",
       "\n",
       "[1003 rows x 6 columns]"
      ]
     },
     "execution_count": 6,
     "metadata": {},
     "output_type": "execute_result"
    }
   ],
   "source": [
    "df"
   ]
  },
  {
   "cell_type": "code",
   "execution_count": 7,
   "id": "d33be825",
   "metadata": {},
   "outputs": [
    {
     "name": "stdout",
     "output_type": "stream",
     "text": [
      "[*********************100%***********************]  5 of 5 completed\n"
     ]
    }
   ],
   "source": [
    "# to having the df for portfolio\n",
    "# we can do as below:\n",
    "dfall=yf.download(tickers,start,end)['Adj Close']"
   ]
  },
  {
   "cell_type": "code",
   "execution_count": 8,
   "id": "6160b3f7",
   "metadata": {
    "scrolled": true
   },
   "outputs": [
    {
     "data": {
      "text/html": [
       "<div>\n",
       "<style scoped>\n",
       "    .dataframe tbody tr th:only-of-type {\n",
       "        vertical-align: middle;\n",
       "    }\n",
       "\n",
       "    .dataframe tbody tr th {\n",
       "        vertical-align: top;\n",
       "    }\n",
       "\n",
       "    .dataframe thead th {\n",
       "        text-align: right;\n",
       "    }\n",
       "</style>\n",
       "<table border=\"1\" class=\"dataframe\">\n",
       "  <thead>\n",
       "    <tr style=\"text-align: right;\">\n",
       "      <th></th>\n",
       "      <th>ARCC</th>\n",
       "      <th>CCD</th>\n",
       "      <th>DX</th>\n",
       "      <th>GOF</th>\n",
       "      <th>USA</th>\n",
       "    </tr>\n",
       "    <tr>\n",
       "      <th>Date</th>\n",
       "      <th></th>\n",
       "      <th></th>\n",
       "      <th></th>\n",
       "      <th></th>\n",
       "      <th></th>\n",
       "    </tr>\n",
       "  </thead>\n",
       "  <tbody>\n",
       "    <tr>\n",
       "      <th>2019-01-02</th>\n",
       "      <td>10.592238</td>\n",
       "      <td>11.867771</td>\n",
       "      <td>11.536770</td>\n",
       "      <td>11.846917</td>\n",
       "      <td>3.612476</td>\n",
       "    </tr>\n",
       "    <tr>\n",
       "      <th>2019-01-03</th>\n",
       "      <td>10.448638</td>\n",
       "      <td>11.783597</td>\n",
       "      <td>11.714561</td>\n",
       "      <td>11.840635</td>\n",
       "      <td>3.545328</td>\n",
       "    </tr>\n",
       "    <tr>\n",
       "      <th>2019-01-04</th>\n",
       "      <td>10.776867</td>\n",
       "      <td>12.092220</td>\n",
       "      <td>11.931864</td>\n",
       "      <td>11.815523</td>\n",
       "      <td>3.612476</td>\n",
       "    </tr>\n",
       "    <tr>\n",
       "      <th>2019-01-07</th>\n",
       "      <td>11.002526</td>\n",
       "      <td>12.477990</td>\n",
       "      <td>12.149167</td>\n",
       "      <td>12.116876</td>\n",
       "      <td>3.706480</td>\n",
       "    </tr>\n",
       "    <tr>\n",
       "      <th>2019-01-08</th>\n",
       "      <td>11.214507</td>\n",
       "      <td>12.590217</td>\n",
       "      <td>12.168919</td>\n",
       "      <td>12.236160</td>\n",
       "      <td>3.766912</td>\n",
       "    </tr>\n",
       "    <tr>\n",
       "      <th>...</th>\n",
       "      <td>...</td>\n",
       "      <td>...</td>\n",
       "      <td>...</td>\n",
       "      <td>...</td>\n",
       "      <td>...</td>\n",
       "    </tr>\n",
       "    <tr>\n",
       "      <th>2022-12-16</th>\n",
       "      <td>18.360001</td>\n",
       "      <td>20.980000</td>\n",
       "      <td>12.820400</td>\n",
       "      <td>15.900000</td>\n",
       "      <td>5.880000</td>\n",
       "    </tr>\n",
       "    <tr>\n",
       "      <th>2022-12-19</th>\n",
       "      <td>17.980000</td>\n",
       "      <td>20.700001</td>\n",
       "      <td>12.909500</td>\n",
       "      <td>15.740000</td>\n",
       "      <td>5.820000</td>\n",
       "    </tr>\n",
       "    <tr>\n",
       "      <th>2022-12-20</th>\n",
       "      <td>18.379999</td>\n",
       "      <td>20.830000</td>\n",
       "      <td>12.959000</td>\n",
       "      <td>15.610000</td>\n",
       "      <td>5.810000</td>\n",
       "    </tr>\n",
       "    <tr>\n",
       "      <th>2022-12-21</th>\n",
       "      <td>18.629999</td>\n",
       "      <td>20.910000</td>\n",
       "      <td>12.860000</td>\n",
       "      <td>15.660000</td>\n",
       "      <td>5.830000</td>\n",
       "    </tr>\n",
       "    <tr>\n",
       "      <th>2022-12-22</th>\n",
       "      <td>18.180000</td>\n",
       "      <td>20.700001</td>\n",
       "      <td>12.940000</td>\n",
       "      <td>15.620000</td>\n",
       "      <td>5.810000</td>\n",
       "    </tr>\n",
       "  </tbody>\n",
       "</table>\n",
       "<p>1003 rows × 5 columns</p>\n",
       "</div>"
      ],
      "text/plain": [
       "                 ARCC        CCD         DX        GOF       USA\n",
       "Date                                                            \n",
       "2019-01-02  10.592238  11.867771  11.536770  11.846917  3.612476\n",
       "2019-01-03  10.448638  11.783597  11.714561  11.840635  3.545328\n",
       "2019-01-04  10.776867  12.092220  11.931864  11.815523  3.612476\n",
       "2019-01-07  11.002526  12.477990  12.149167  12.116876  3.706480\n",
       "2019-01-08  11.214507  12.590217  12.168919  12.236160  3.766912\n",
       "...               ...        ...        ...        ...       ...\n",
       "2022-12-16  18.360001  20.980000  12.820400  15.900000  5.880000\n",
       "2022-12-19  17.980000  20.700001  12.909500  15.740000  5.820000\n",
       "2022-12-20  18.379999  20.830000  12.959000  15.610000  5.810000\n",
       "2022-12-21  18.629999  20.910000  12.860000  15.660000  5.830000\n",
       "2022-12-22  18.180000  20.700001  12.940000  15.620000  5.810000\n",
       "\n",
       "[1003 rows x 5 columns]"
      ]
     },
     "execution_count": 8,
     "metadata": {},
     "output_type": "execute_result"
    }
   ],
   "source": [
    "dfall"
   ]
  },
  {
   "cell_type": "code",
   "execution_count": 12,
   "id": "3c78e576",
   "metadata": {},
   "outputs": [],
   "source": [
    "returns=dfall.pct_change() # build in function or dir"
   ]
  },
  {
   "cell_type": "code",
   "execution_count": 13,
   "id": "33e1b64e",
   "metadata": {
    "scrolled": true
   },
   "outputs": [
    {
     "data": {
      "text/html": [
       "<div>\n",
       "<style scoped>\n",
       "    .dataframe tbody tr th:only-of-type {\n",
       "        vertical-align: middle;\n",
       "    }\n",
       "\n",
       "    .dataframe tbody tr th {\n",
       "        vertical-align: top;\n",
       "    }\n",
       "\n",
       "    .dataframe thead th {\n",
       "        text-align: right;\n",
       "    }\n",
       "</style>\n",
       "<table border=\"1\" class=\"dataframe\">\n",
       "  <thead>\n",
       "    <tr style=\"text-align: right;\">\n",
       "      <th></th>\n",
       "      <th>ARCC</th>\n",
       "      <th>CCD</th>\n",
       "      <th>DX</th>\n",
       "      <th>GOF</th>\n",
       "      <th>USA</th>\n",
       "    </tr>\n",
       "    <tr>\n",
       "      <th>Date</th>\n",
       "      <th></th>\n",
       "      <th></th>\n",
       "      <th></th>\n",
       "      <th></th>\n",
       "      <th></th>\n",
       "    </tr>\n",
       "  </thead>\n",
       "  <tbody>\n",
       "    <tr>\n",
       "      <th>2019-01-02</th>\n",
       "      <td>NaN</td>\n",
       "      <td>NaN</td>\n",
       "      <td>NaN</td>\n",
       "      <td>NaN</td>\n",
       "      <td>NaN</td>\n",
       "    </tr>\n",
       "    <tr>\n",
       "      <th>2019-01-03</th>\n",
       "      <td>-0.013557</td>\n",
       "      <td>-0.007093</td>\n",
       "      <td>0.015411</td>\n",
       "      <td>-0.000530</td>\n",
       "      <td>-0.018588</td>\n",
       "    </tr>\n",
       "    <tr>\n",
       "      <th>2019-01-04</th>\n",
       "      <td>0.031414</td>\n",
       "      <td>0.026191</td>\n",
       "      <td>0.018550</td>\n",
       "      <td>-0.002121</td>\n",
       "      <td>0.018940</td>\n",
       "    </tr>\n",
       "    <tr>\n",
       "      <th>2019-01-07</th>\n",
       "      <td>0.020939</td>\n",
       "      <td>0.031902</td>\n",
       "      <td>0.018212</td>\n",
       "      <td>0.025505</td>\n",
       "      <td>0.026022</td>\n",
       "    </tr>\n",
       "    <tr>\n",
       "      <th>2019-01-08</th>\n",
       "      <td>0.019267</td>\n",
       "      <td>0.008994</td>\n",
       "      <td>0.001626</td>\n",
       "      <td>0.009845</td>\n",
       "      <td>0.016304</td>\n",
       "    </tr>\n",
       "    <tr>\n",
       "      <th>...</th>\n",
       "      <td>...</td>\n",
       "      <td>...</td>\n",
       "      <td>...</td>\n",
       "      <td>...</td>\n",
       "      <td>...</td>\n",
       "    </tr>\n",
       "    <tr>\n",
       "      <th>2022-12-16</th>\n",
       "      <td>-0.012903</td>\n",
       "      <td>-0.008038</td>\n",
       "      <td>-0.018939</td>\n",
       "      <td>-0.005629</td>\n",
       "      <td>-0.013423</td>\n",
       "    </tr>\n",
       "    <tr>\n",
       "      <th>2022-12-19</th>\n",
       "      <td>-0.020697</td>\n",
       "      <td>-0.013346</td>\n",
       "      <td>0.006950</td>\n",
       "      <td>-0.010063</td>\n",
       "      <td>-0.010204</td>\n",
       "    </tr>\n",
       "    <tr>\n",
       "      <th>2022-12-20</th>\n",
       "      <td>0.022247</td>\n",
       "      <td>0.006280</td>\n",
       "      <td>0.003834</td>\n",
       "      <td>-0.008259</td>\n",
       "      <td>-0.001718</td>\n",
       "    </tr>\n",
       "    <tr>\n",
       "      <th>2022-12-21</th>\n",
       "      <td>0.013602</td>\n",
       "      <td>0.003841</td>\n",
       "      <td>-0.007639</td>\n",
       "      <td>0.003203</td>\n",
       "      <td>0.003442</td>\n",
       "    </tr>\n",
       "    <tr>\n",
       "      <th>2022-12-22</th>\n",
       "      <td>-0.024155</td>\n",
       "      <td>-0.010043</td>\n",
       "      <td>0.006221</td>\n",
       "      <td>-0.002554</td>\n",
       "      <td>-0.003431</td>\n",
       "    </tr>\n",
       "  </tbody>\n",
       "</table>\n",
       "<p>1003 rows × 5 columns</p>\n",
       "</div>"
      ],
      "text/plain": [
       "                ARCC       CCD        DX       GOF       USA\n",
       "Date                                                        \n",
       "2019-01-02       NaN       NaN       NaN       NaN       NaN\n",
       "2019-01-03 -0.013557 -0.007093  0.015411 -0.000530 -0.018588\n",
       "2019-01-04  0.031414  0.026191  0.018550 -0.002121  0.018940\n",
       "2019-01-07  0.020939  0.031902  0.018212  0.025505  0.026022\n",
       "2019-01-08  0.019267  0.008994  0.001626  0.009845  0.016304\n",
       "...              ...       ...       ...       ...       ...\n",
       "2022-12-16 -0.012903 -0.008038 -0.018939 -0.005629 -0.013423\n",
       "2022-12-19 -0.020697 -0.013346  0.006950 -0.010063 -0.010204\n",
       "2022-12-20  0.022247  0.006280  0.003834 -0.008259 -0.001718\n",
       "2022-12-21  0.013602  0.003841 -0.007639  0.003203  0.003442\n",
       "2022-12-22 -0.024155 -0.010043  0.006221 -0.002554 -0.003431\n",
       "\n",
       "[1003 rows x 5 columns]"
      ]
     },
     "execution_count": 13,
     "metadata": {},
     "output_type": "execute_result"
    }
   ],
   "source": [
    "returns # here is the daily return by defult "
   ]
  },
  {
   "cell_type": "code",
   "execution_count": null,
   "id": "b7a964bf",
   "metadata": {},
   "outputs": [],
   "source": []
  },
  {
   "cell_type": "code",
   "execution_count": 14,
   "id": "487f80ea",
   "metadata": {
    "scrolled": false
   },
   "outputs": [
    {
     "data": {
      "text/html": [
       "<div>\n",
       "<style scoped>\n",
       "    .dataframe tbody tr th:only-of-type {\n",
       "        vertical-align: middle;\n",
       "    }\n",
       "\n",
       "    .dataframe tbody tr th {\n",
       "        vertical-align: top;\n",
       "    }\n",
       "\n",
       "    .dataframe thead th {\n",
       "        text-align: right;\n",
       "    }\n",
       "</style>\n",
       "<table border=\"1\" class=\"dataframe\">\n",
       "  <thead>\n",
       "    <tr style=\"text-align: right;\">\n",
       "      <th></th>\n",
       "      <th>ARCC</th>\n",
       "      <th>CCD</th>\n",
       "      <th>DX</th>\n",
       "      <th>GOF</th>\n",
       "      <th>USA</th>\n",
       "    </tr>\n",
       "  </thead>\n",
       "  <tbody>\n",
       "    <tr>\n",
       "      <th>ARCC</th>\n",
       "      <td>0.000497</td>\n",
       "      <td>0.000338</td>\n",
       "      <td>0.000283</td>\n",
       "      <td>0.000205</td>\n",
       "      <td>0.000301</td>\n",
       "    </tr>\n",
       "    <tr>\n",
       "      <th>CCD</th>\n",
       "      <td>0.000338</td>\n",
       "      <td>0.000487</td>\n",
       "      <td>0.000302</td>\n",
       "      <td>0.000233</td>\n",
       "      <td>0.000320</td>\n",
       "    </tr>\n",
       "    <tr>\n",
       "      <th>DX</th>\n",
       "      <td>0.000283</td>\n",
       "      <td>0.000302</td>\n",
       "      <td>0.000658</td>\n",
       "      <td>0.000157</td>\n",
       "      <td>0.000263</td>\n",
       "    </tr>\n",
       "    <tr>\n",
       "      <th>GOF</th>\n",
       "      <td>0.000205</td>\n",
       "      <td>0.000233</td>\n",
       "      <td>0.000157</td>\n",
       "      <td>0.000228</td>\n",
       "      <td>0.000174</td>\n",
       "    </tr>\n",
       "    <tr>\n",
       "      <th>USA</th>\n",
       "      <td>0.000301</td>\n",
       "      <td>0.000320</td>\n",
       "      <td>0.000263</td>\n",
       "      <td>0.000174</td>\n",
       "      <td>0.000365</td>\n",
       "    </tr>\n",
       "  </tbody>\n",
       "</table>\n",
       "</div>"
      ],
      "text/plain": [
       "          ARCC       CCD        DX       GOF       USA\n",
       "ARCC  0.000497  0.000338  0.000283  0.000205  0.000301\n",
       "CCD   0.000338  0.000487  0.000302  0.000233  0.000320\n",
       "DX    0.000283  0.000302  0.000658  0.000157  0.000263\n",
       "GOF   0.000205  0.000233  0.000157  0.000228  0.000174\n",
       "USA   0.000301  0.000320  0.000263  0.000174  0.000365"
      ]
     },
     "execution_count": 14,
     "metadata": {},
     "output_type": "execute_result"
    }
   ],
   "source": [
    "#HERE to calculate coveriance matrix\n",
    "cov_matrix=returns.cov()\n",
    "cov_matrix"
   ]
  },
  {
   "cell_type": "code",
   "execution_count": 15,
   "id": "baab5f41",
   "metadata": {},
   "outputs": [
    {
     "data": {
      "text/plain": [
       "ARCC    0.000793\n",
       "CCD     0.000807\n",
       "DX      0.000438\n",
       "GOF     0.000395\n",
       "USA     0.000661\n",
       "dtype: float64"
      ]
     },
     "execution_count": 15,
     "metadata": {},
     "output_type": "execute_result"
    }
   ],
   "source": [
    "avg_returns=returns.mean()\n",
    "avg_returns"
   ]
  },
  {
   "cell_type": "code",
   "execution_count": 16,
   "id": "f16e3fa8",
   "metadata": {},
   "outputs": [
    {
     "data": {
      "text/plain": [
       "ARCC    1002\n",
       "CCD     1002\n",
       "DX      1002\n",
       "GOF     1002\n",
       "USA     1002\n",
       "dtype: int64"
      ]
     },
     "execution_count": 16,
     "metadata": {},
     "output_type": "execute_result"
    }
   ],
   "source": [
    "count=returns.count()\n",
    "count"
   ]
  },
  {
   "cell_type": "code",
   "execution_count": 17,
   "id": "959b099f",
   "metadata": {},
   "outputs": [
    {
     "data": {
      "text/plain": [
       "1002"
      ]
     },
     "execution_count": 17,
     "metadata": {},
     "output_type": "execute_result"
    }
   ],
   "source": [
    "count[0]"
   ]
  },
  {
   "cell_type": "code",
   "execution_count": 21,
   "id": "648d671d",
   "metadata": {},
   "outputs": [],
   "source": [
    "#note here we use @ to assign the weight\n",
    "portfolio_mean=avg_returns@weights\n",
    "portfolio_std=np.sqrt(weights.T@ cov_matrix@weights)"
   ]
  },
  {
   "cell_type": "code",
   "execution_count": 108,
   "id": "a59ae434",
   "metadata": {},
   "outputs": [
    {
     "data": {
      "text/plain": [
       "Date\n",
       "2019-01-02         NaN\n",
       "2019-01-03   -0.008424\n",
       "2019-01-04    0.022712\n",
       "2019-01-07    0.025429\n",
       "2019-01-08    0.012886\n",
       "                ...   \n",
       "2022-12-16   -0.011424\n",
       "2022-12-19   -0.012565\n",
       "2022-12-20    0.007772\n",
       "2022-12-21    0.005478\n",
       "2022-12-22   -0.010579\n",
       "Length: 1003, dtype: float64"
      ]
     },
     "execution_count": 108,
     "metadata": {},
     "output_type": "execute_result"
    }
   ],
   "source": [
    "portfolioretunr=returns@weights\n",
    "portfolioretunr"
   ]
  },
  {
   "cell_type": "code",
   "execution_count": 22,
   "id": "3bf2e30d",
   "metadata": {},
   "outputs": [
    {
     "data": {
      "text/plain": [
       "0.0006954919301130848"
      ]
     },
     "execution_count": 22,
     "metadata": {},
     "output_type": "execute_result"
    }
   ],
   "source": [
    "# note here is the calculated daily return\n",
    "portfolio_mean"
   ]
  },
  {
   "cell_type": "code",
   "execution_count": 24,
   "id": "39bab33e",
   "metadata": {},
   "outputs": [
    {
     "data": {
      "text/plain": [
       "0.018148685256449366"
      ]
     },
     "execution_count": 24,
     "metadata": {},
     "output_type": "execute_result"
    }
   ],
   "source": [
    "portfolio_std"
   ]
  },
  {
   "cell_type": "code",
   "execution_count": 26,
   "id": "f71a38a5",
   "metadata": {
    "scrolled": true
   },
   "outputs": [
    {
     "data": {
      "text/plain": [
       "array([-5.00000000e-02, -4.90000000e-02, -4.80000000e-02, -4.70000000e-02,\n",
       "       -4.60000000e-02, -4.50000000e-02, -4.40000000e-02, -4.30000000e-02,\n",
       "       -4.20000000e-02, -4.10000000e-02, -4.00000000e-02, -3.90000000e-02,\n",
       "       -3.80000000e-02, -3.70000000e-02, -3.60000000e-02, -3.50000000e-02,\n",
       "       -3.40000000e-02, -3.30000000e-02, -3.20000000e-02, -3.10000000e-02,\n",
       "       -3.00000000e-02, -2.90000000e-02, -2.80000000e-02, -2.70000000e-02,\n",
       "       -2.60000000e-02, -2.50000000e-02, -2.40000000e-02, -2.30000000e-02,\n",
       "       -2.20000000e-02, -2.10000000e-02, -2.00000000e-02, -1.90000000e-02,\n",
       "       -1.80000000e-02, -1.70000000e-02, -1.60000000e-02, -1.50000000e-02,\n",
       "       -1.40000000e-02, -1.30000000e-02, -1.20000000e-02, -1.10000000e-02,\n",
       "       -1.00000000e-02, -9.00000000e-03, -8.00000000e-03, -7.00000000e-03,\n",
       "       -6.00000000e-03, -5.00000000e-03, -4.00000000e-03, -3.00000000e-03,\n",
       "       -2.00000000e-03, -1.00000000e-03,  4.16333634e-17,  1.00000000e-03,\n",
       "        2.00000000e-03,  3.00000000e-03,  4.00000000e-03,  5.00000000e-03,\n",
       "        6.00000000e-03,  7.00000000e-03,  8.00000000e-03,  9.00000000e-03,\n",
       "        1.00000000e-02,  1.10000000e-02,  1.20000000e-02,  1.30000000e-02,\n",
       "        1.40000000e-02,  1.50000000e-02,  1.60000000e-02,  1.70000000e-02,\n",
       "        1.80000000e-02,  1.90000000e-02,  2.00000000e-02,  2.10000000e-02,\n",
       "        2.20000000e-02,  2.30000000e-02,  2.40000000e-02,  2.50000000e-02,\n",
       "        2.60000000e-02,  2.70000000e-02,  2.80000000e-02,  2.90000000e-02,\n",
       "        3.00000000e-02,  3.10000000e-02,  3.20000000e-02,  3.30000000e-02,\n",
       "        3.40000000e-02,  3.50000000e-02,  3.60000000e-02,  3.70000000e-02,\n",
       "        3.80000000e-02,  3.90000000e-02,  4.00000000e-02,  4.10000000e-02,\n",
       "        4.20000000e-02,  4.30000000e-02,  4.40000000e-02,  4.50000000e-02,\n",
       "        4.60000000e-02,  4.70000000e-02,  4.80000000e-02,  4.90000000e-02])"
      ]
     },
     "execution_count": 26,
     "metadata": {},
     "output_type": "execute_result"
    }
   ],
   "source": [
    "# note arrange give even interval good for x aixes\n",
    "x=np.arange(-0.05,0.05,0.001)\n",
    "x"
   ]
  },
  {
   "cell_type": "code",
   "execution_count": 28,
   "id": "7c03eeb0",
   "metadata": {},
   "outputs": [],
   "source": [
    "#pdf probability density function\n",
    "norm_dist=norm.pdf(x,portfolio_mean,portfolio_std)"
   ]
  },
  {
   "cell_type": "code",
   "execution_count": 29,
   "id": "fb9cada9",
   "metadata": {},
   "outputs": [
    {
     "data": {
      "text/plain": [
       "[<matplotlib.lines.Line2D at 0x25a57d6cb50>]"
      ]
     },
     "execution_count": 29,
     "metadata": {},
     "output_type": "execute_result"
    },
    {
     "data": {
      "image/png": "[encoded data removed]",
      "text/plain": [
       "<Figure size 432x288 with 1 Axes>"
      ]
     },
     "metadata": {
      "needs_background": "light"
     },
     "output_type": "display_data"
    }
   ],
   "source": [
    "plt.plot(x,norm_dist,c='g')"
   ]
  },
  {
   "cell_type": "markdown",
   "id": "6c4a10a5",
   "metadata": {},
   "source": [
    "# Parametric VaR"
   ]
  },
  {
   "cell_type": "code",
   "execution_count": 30,
   "id": "22227f5b",
   "metadata": {},
   "outputs": [
    {
     "data": {
      "text/plain": [
       "-0.02915643883835838"
      ]
     },
     "execution_count": 30,
     "metadata": {},
     "output_type": "execute_result"
    }
   ],
   "source": [
    "#percentage point function ## note we need to manually plot the z score\n",
    "confidence_lv=0.05\n",
    "Var=norm.ppf(confidence_lv,portfolio_mean,portfolio_std)\n",
    "Var"
   ]
  },
  {
   "cell_type": "code",
   "execution_count": 32,
   "id": "6f3319bb",
   "metadata": {},
   "outputs": [
    {
     "data": {
      "text/plain": [
       "-0.13361158797212758"
      ]
     },
     "execution_count": 32,
     "metadata": {},
     "output_type": "execute_result"
    }
   ],
   "source": [
    "# to see var for a period time eg a month \n",
    "num_days=21 # assume 21 trading days in a month \n",
    "period_var=Var*np.sqrt(num_days) # note here has to be sqrt\n",
    "period_var"
   ]
  },
  {
   "cell_type": "code",
   "execution_count": 33,
   "id": "e231361a",
   "metadata": {},
   "outputs": [],
   "source": [
    "# calculate the range with confidence interval\n",
    "lower=portfolio_mean-2*portfolio_std/np.sqrt(count[0])\n",
    "higher=portfolio_mean+2*portfolio_std/np.sqrt(count[0])"
   ]
  },
  {
   "cell_type": "code",
   "execution_count": 34,
   "id": "26010627",
   "metadata": {},
   "outputs": [
    {
     "data": {
      "text/plain": [
       "-0.0004511856040768107"
      ]
     },
     "execution_count": 34,
     "metadata": {},
     "output_type": "execute_result"
    }
   ],
   "source": [
    "lower"
   ]
  },
  {
   "cell_type": "code",
   "execution_count": 36,
   "id": "214f65f7",
   "metadata": {},
   "outputs": [
    {
     "data": {
      "text/plain": [
       "-0.002067592183156361"
      ]
     },
     "execution_count": 36,
     "metadata": {},
     "output_type": "execute_result"
    }
   ],
   "source": [
    "lowermonth=lower*np.sqrt(21)\n",
    "lowermonth"
   ]
  },
  {
   "cell_type": "code",
   "execution_count": 38,
   "id": "047e122a",
   "metadata": {},
   "outputs": [
    {
     "data": {
      "text/plain": [
       "0.0018421694643029802"
      ]
     },
     "execution_count": 38,
     "metadata": {},
     "output_type": "execute_result"
    }
   ],
   "source": [
    "highermonth=higher*np.sqrt(21)\n",
    "higher"
   ]
  },
  {
   "attachments": {
    "image.png": {
     "image/png": "[encoded data removed]"
    }
   },
   "cell_type": "markdown",
   "id": "d4318157",
   "metadata": {},
   "source": [
    "#z 95% interval confidence at 2\n",
    "#n is the count of total return instance\n",
    "![image.png](attachment:image.png)"
   ]
  },
  {
   "cell_type": "code",
   "execution_count": null,
   "id": "41933133",
   "metadata": {},
   "outputs": [],
   "source": [
    "#refer above fo confidence interval"
   ]
  },
  {
   "cell_type": "markdown",
   "id": "b30a615d",
   "metadata": {},
   "source": [
    "# caculate the vol for porfolio return"
   ]
  },
  {
   "cell_type": "code",
   "execution_count": 58,
   "id": "cd8f50bc",
   "metadata": {
    "scrolled": true
   },
   "outputs": [
    {
     "data": {
      "text/html": [
       "<div>\n",
       "<style scoped>\n",
       "    .dataframe tbody tr th:only-of-type {\n",
       "        vertical-align: middle;\n",
       "    }\n",
       "\n",
       "    .dataframe tbody tr th {\n",
       "        vertical-align: top;\n",
       "    }\n",
       "\n",
       "    .dataframe thead th {\n",
       "        text-align: right;\n",
       "    }\n",
       "</style>\n",
       "<table border=\"1\" class=\"dataframe\">\n",
       "  <thead>\n",
       "    <tr style=\"text-align: right;\">\n",
       "      <th></th>\n",
       "      <th>ARCC</th>\n",
       "      <th>CCD</th>\n",
       "      <th>DX</th>\n",
       "      <th>GOF</th>\n",
       "      <th>USA</th>\n",
       "    </tr>\n",
       "    <tr>\n",
       "      <th>Date</th>\n",
       "      <th></th>\n",
       "      <th></th>\n",
       "      <th></th>\n",
       "      <th></th>\n",
       "      <th></th>\n",
       "    </tr>\n",
       "  </thead>\n",
       "  <tbody>\n",
       "    <tr>\n",
       "      <th>2019-01-02</th>\n",
       "      <td>NaN</td>\n",
       "      <td>NaN</td>\n",
       "      <td>NaN</td>\n",
       "      <td>NaN</td>\n",
       "      <td>NaN</td>\n",
       "    </tr>\n",
       "    <tr>\n",
       "      <th>2019-01-03</th>\n",
       "      <td>-0.013557</td>\n",
       "      <td>-0.007093</td>\n",
       "      <td>0.015411</td>\n",
       "      <td>-0.000530</td>\n",
       "      <td>-0.018588</td>\n",
       "    </tr>\n",
       "    <tr>\n",
       "      <th>2019-01-04</th>\n",
       "      <td>0.031414</td>\n",
       "      <td>0.026191</td>\n",
       "      <td>0.018550</td>\n",
       "      <td>-0.002121</td>\n",
       "      <td>0.018940</td>\n",
       "    </tr>\n",
       "    <tr>\n",
       "      <th>2019-01-07</th>\n",
       "      <td>0.020939</td>\n",
       "      <td>0.031902</td>\n",
       "      <td>0.018212</td>\n",
       "      <td>0.025505</td>\n",
       "      <td>0.026022</td>\n",
       "    </tr>\n",
       "    <tr>\n",
       "      <th>2019-01-08</th>\n",
       "      <td>0.019267</td>\n",
       "      <td>0.008994</td>\n",
       "      <td>0.001626</td>\n",
       "      <td>0.009845</td>\n",
       "      <td>0.016304</td>\n",
       "    </tr>\n",
       "    <tr>\n",
       "      <th>...</th>\n",
       "      <td>...</td>\n",
       "      <td>...</td>\n",
       "      <td>...</td>\n",
       "      <td>...</td>\n",
       "      <td>...</td>\n",
       "    </tr>\n",
       "    <tr>\n",
       "      <th>2022-12-16</th>\n",
       "      <td>-0.012903</td>\n",
       "      <td>-0.008038</td>\n",
       "      <td>-0.018939</td>\n",
       "      <td>-0.005629</td>\n",
       "      <td>-0.013423</td>\n",
       "    </tr>\n",
       "    <tr>\n",
       "      <th>2022-12-19</th>\n",
       "      <td>-0.020697</td>\n",
       "      <td>-0.013346</td>\n",
       "      <td>0.006950</td>\n",
       "      <td>-0.010063</td>\n",
       "      <td>-0.010204</td>\n",
       "    </tr>\n",
       "    <tr>\n",
       "      <th>2022-12-20</th>\n",
       "      <td>0.022247</td>\n",
       "      <td>0.006280</td>\n",
       "      <td>0.003834</td>\n",
       "      <td>-0.008259</td>\n",
       "      <td>-0.001718</td>\n",
       "    </tr>\n",
       "    <tr>\n",
       "      <th>2022-12-21</th>\n",
       "      <td>0.013602</td>\n",
       "      <td>0.003841</td>\n",
       "      <td>-0.007639</td>\n",
       "      <td>0.003203</td>\n",
       "      <td>0.003442</td>\n",
       "    </tr>\n",
       "    <tr>\n",
       "      <th>2022-12-22</th>\n",
       "      <td>-0.024155</td>\n",
       "      <td>-0.010043</td>\n",
       "      <td>0.006221</td>\n",
       "      <td>-0.002554</td>\n",
       "      <td>-0.003431</td>\n",
       "    </tr>\n",
       "  </tbody>\n",
       "</table>\n",
       "<p>1003 rows × 5 columns</p>\n",
       "</div>"
      ],
      "text/plain": [
       "                ARCC       CCD        DX       GOF       USA\n",
       "Date                                                        \n",
       "2019-01-02       NaN       NaN       NaN       NaN       NaN\n",
       "2019-01-03 -0.013557 -0.007093  0.015411 -0.000530 -0.018588\n",
       "2019-01-04  0.031414  0.026191  0.018550 -0.002121  0.018940\n",
       "2019-01-07  0.020939  0.031902  0.018212  0.025505  0.026022\n",
       "2019-01-08  0.019267  0.008994  0.001626  0.009845  0.016304\n",
       "...              ...       ...       ...       ...       ...\n",
       "2022-12-16 -0.012903 -0.008038 -0.018939 -0.005629 -0.013423\n",
       "2022-12-19 -0.020697 -0.013346  0.006950 -0.010063 -0.010204\n",
       "2022-12-20  0.022247  0.006280  0.003834 -0.008259 -0.001718\n",
       "2022-12-21  0.013602  0.003841 -0.007639  0.003203  0.003442\n",
       "2022-12-22 -0.024155 -0.010043  0.006221 -0.002554 -0.003431\n",
       "\n",
       "[1003 rows x 5 columns]"
      ]
     },
     "execution_count": 58,
     "metadata": {},
     "output_type": "execute_result"
    }
   ],
   "source": [
    "returns\n"
   ]
  },
  {
   "cell_type": "code",
   "execution_count": 68,
   "id": "600bf4ea",
   "metadata": {},
   "outputs": [
    {
     "data": {
      "text/plain": [
       "['ARCC', 'CCD', 'DX', 'GOF', 'USA']"
      ]
     },
     "execution_count": 68,
     "metadata": {},
     "output_type": "execute_result"
    }
   ],
   "source": [
    "list(returns.columns)"
   ]
  },
  {
   "cell_type": "code",
   "execution_count": 70,
   "id": "38bdc101",
   "metadata": {},
   "outputs": [],
   "source": [
    "tickers=['GOF','CCD','DX','USA','ARCC']\n",
    "weights=np.array([0.3,0.3,0.1,0.1,0.2])"
   ]
  },
  {
   "cell_type": "code",
   "execution_count": 71,
   "id": "e8ccd1f6",
   "metadata": {},
   "outputs": [],
   "source": [
    "weightss=list(weights)"
   ]
  },
  {
   "cell_type": "code",
   "execution_count": 63,
   "id": "e26c3e82",
   "metadata": {
    "scrolled": true
   },
   "outputs": [
    {
     "data": {
      "text/plain": [
       "Date\n",
       "2019-01-02         NaN\n",
       "2019-01-03   -0.013557\n",
       "2019-01-04    0.031414\n",
       "2019-01-07    0.020939\n",
       "2019-01-08    0.019267\n",
       "                ...   \n",
       "2022-12-16   -0.012903\n",
       "2022-12-19   -0.020697\n",
       "2022-12-20    0.022247\n",
       "2022-12-21    0.013602\n",
       "2022-12-22   -0.024155\n",
       "Name: ARCC, Length: 1003, dtype: float64"
      ]
     },
     "execution_count": 63,
     "metadata": {},
     "output_type": "execute_result"
    }
   ],
   "source": [
    "returns.iloc[:,0]"
   ]
  },
  {
   "cell_type": "code",
   "execution_count": 74,
   "id": "03c173d8",
   "metadata": {},
   "outputs": [
    {
     "data": {
      "text/plain": [
       "[Date\n",
       " 2019-01-02         NaN\n",
       " 2019-01-03   -0.004067\n",
       " 2019-01-04    0.009424\n",
       " 2019-01-07    0.006282\n",
       " 2019-01-08    0.005780\n",
       "                 ...   \n",
       " 2022-12-16   -0.003871\n",
       " 2022-12-19   -0.006209\n",
       " 2022-12-20    0.006674\n",
       " 2022-12-21    0.004081\n",
       " 2022-12-22   -0.007246\n",
       " Name: ARCC, Length: 1003, dtype: float64,\n",
       " Date\n",
       " 2019-01-02         NaN\n",
       " 2019-01-03   -0.002128\n",
       " 2019-01-04    0.007857\n",
       " 2019-01-07    0.009571\n",
       " 2019-01-08    0.002698\n",
       "                 ...   \n",
       " 2022-12-16   -0.002411\n",
       " 2022-12-19   -0.004004\n",
       " 2022-12-20    0.001884\n",
       " 2022-12-21    0.001152\n",
       " 2022-12-22   -0.003013\n",
       " Name: CCD, Length: 1003, dtype: float64,\n",
       " Date\n",
       " 2019-01-02         NaN\n",
       " 2019-01-03    0.001541\n",
       " 2019-01-04    0.001855\n",
       " 2019-01-07    0.001821\n",
       " 2019-01-08    0.000163\n",
       "                 ...   \n",
       " 2022-12-16   -0.001894\n",
       " 2022-12-19    0.000695\n",
       " 2022-12-20    0.000383\n",
       " 2022-12-21   -0.000764\n",
       " 2022-12-22    0.000622\n",
       " Name: DX, Length: 1003, dtype: float64,\n",
       " Date\n",
       " 2019-01-02         NaN\n",
       " 2019-01-03   -0.000053\n",
       " 2019-01-04   -0.000212\n",
       " 2019-01-07    0.002550\n",
       " 2019-01-08    0.000984\n",
       "                 ...   \n",
       " 2022-12-16   -0.000563\n",
       " 2022-12-19   -0.001006\n",
       " 2022-12-20   -0.000826\n",
       " 2022-12-21    0.000320\n",
       " 2022-12-22   -0.000255\n",
       " Name: GOF, Length: 1003, dtype: float64,\n",
       " Date\n",
       " 2019-01-02         NaN\n",
       " 2019-01-03   -0.003718\n",
       " 2019-01-04    0.003788\n",
       " 2019-01-07    0.005204\n",
       " 2019-01-08    0.003261\n",
       "                 ...   \n",
       " 2022-12-16   -0.002685\n",
       " 2022-12-19   -0.002041\n",
       " 2022-12-20   -0.000344\n",
       " 2022-12-21    0.000688\n",
       " 2022-12-22   -0.000686\n",
       " Name: USA, Length: 1003, dtype: float64]"
      ]
     },
     "execution_count": 74,
     "metadata": {},
     "output_type": "execute_result"
    }
   ],
   "source": [
    "weightedreturn=[]\n",
    "for i in range(len(list(returns.columns))):\n",
    "    a=returns.iloc[:,i]*weightss[i]\n",
    "    weightedreturn.append(a)\n",
    "weightedreturn\n",
    "for i in weightedreturn:\n",
    "    \n",
    "    \n",
    "        \n"
   ]
  },
  {
   "cell_type": "code",
   "execution_count": 78,
   "id": "e45f0010",
   "metadata": {
    "scrolled": false
   },
   "outputs": [
    {
     "data": {
      "text/html": [
       "<div>\n",
       "<style scoped>\n",
       "    .dataframe tbody tr th:only-of-type {\n",
       "        vertical-align: middle;\n",
       "    }\n",
       "\n",
       "    .dataframe tbody tr th {\n",
       "        vertical-align: top;\n",
       "    }\n",
       "\n",
       "    .dataframe thead th {\n",
       "        text-align: right;\n",
       "    }\n",
       "</style>\n",
       "<table border=\"1\" class=\"dataframe\">\n",
       "  <thead>\n",
       "    <tr style=\"text-align: right;\">\n",
       "      <th></th>\n",
       "      <th>ARCC</th>\n",
       "      <th>CCD</th>\n",
       "      <th>DX</th>\n",
       "      <th>GOF</th>\n",
       "      <th>USA</th>\n",
       "    </tr>\n",
       "    <tr>\n",
       "      <th>Date</th>\n",
       "      <th></th>\n",
       "      <th></th>\n",
       "      <th></th>\n",
       "      <th></th>\n",
       "      <th></th>\n",
       "    </tr>\n",
       "  </thead>\n",
       "  <tbody>\n",
       "    <tr>\n",
       "      <th>2019-01-02</th>\n",
       "      <td>NaN</td>\n",
       "      <td>NaN</td>\n",
       "      <td>NaN</td>\n",
       "      <td>NaN</td>\n",
       "      <td>NaN</td>\n",
       "    </tr>\n",
       "    <tr>\n",
       "      <th>2019-01-03</th>\n",
       "      <td>-0.004067</td>\n",
       "      <td>-0.002128</td>\n",
       "      <td>0.001541</td>\n",
       "      <td>-0.000053</td>\n",
       "      <td>-0.003718</td>\n",
       "    </tr>\n",
       "    <tr>\n",
       "      <th>2019-01-04</th>\n",
       "      <td>0.009424</td>\n",
       "      <td>0.007857</td>\n",
       "      <td>0.001855</td>\n",
       "      <td>-0.000212</td>\n",
       "      <td>0.003788</td>\n",
       "    </tr>\n",
       "    <tr>\n",
       "      <th>2019-01-07</th>\n",
       "      <td>0.006282</td>\n",
       "      <td>0.009571</td>\n",
       "      <td>0.001821</td>\n",
       "      <td>0.002550</td>\n",
       "      <td>0.005204</td>\n",
       "    </tr>\n",
       "    <tr>\n",
       "      <th>2019-01-08</th>\n",
       "      <td>0.005780</td>\n",
       "      <td>0.002698</td>\n",
       "      <td>0.000163</td>\n",
       "      <td>0.000984</td>\n",
       "      <td>0.003261</td>\n",
       "    </tr>\n",
       "    <tr>\n",
       "      <th>...</th>\n",
       "      <td>...</td>\n",
       "      <td>...</td>\n",
       "      <td>...</td>\n",
       "      <td>...</td>\n",
       "      <td>...</td>\n",
       "    </tr>\n",
       "    <tr>\n",
       "      <th>2022-12-16</th>\n",
       "      <td>-0.003871</td>\n",
       "      <td>-0.002411</td>\n",
       "      <td>-0.001894</td>\n",
       "      <td>-0.000563</td>\n",
       "      <td>-0.002685</td>\n",
       "    </tr>\n",
       "    <tr>\n",
       "      <th>2022-12-19</th>\n",
       "      <td>-0.006209</td>\n",
       "      <td>-0.004004</td>\n",
       "      <td>0.000695</td>\n",
       "      <td>-0.001006</td>\n",
       "      <td>-0.002041</td>\n",
       "    </tr>\n",
       "    <tr>\n",
       "      <th>2022-12-20</th>\n",
       "      <td>0.006674</td>\n",
       "      <td>0.001884</td>\n",
       "      <td>0.000383</td>\n",
       "      <td>-0.000826</td>\n",
       "      <td>-0.000344</td>\n",
       "    </tr>\n",
       "    <tr>\n",
       "      <th>2022-12-21</th>\n",
       "      <td>0.004081</td>\n",
       "      <td>0.001152</td>\n",
       "      <td>-0.000764</td>\n",
       "      <td>0.000320</td>\n",
       "      <td>0.000688</td>\n",
       "    </tr>\n",
       "    <tr>\n",
       "      <th>2022-12-22</th>\n",
       "      <td>-0.007246</td>\n",
       "      <td>-0.003013</td>\n",
       "      <td>0.000622</td>\n",
       "      <td>-0.000255</td>\n",
       "      <td>-0.000686</td>\n",
       "    </tr>\n",
       "  </tbody>\n",
       "</table>\n",
       "<p>1003 rows × 5 columns</p>\n",
       "</div>"
      ],
      "text/plain": [
       "                ARCC       CCD        DX       GOF       USA\n",
       "Date                                                        \n",
       "2019-01-02       NaN       NaN       NaN       NaN       NaN\n",
       "2019-01-03 -0.004067 -0.002128  0.001541 -0.000053 -0.003718\n",
       "2019-01-04  0.009424  0.007857  0.001855 -0.000212  0.003788\n",
       "2019-01-07  0.006282  0.009571  0.001821  0.002550  0.005204\n",
       "2019-01-08  0.005780  0.002698  0.000163  0.000984  0.003261\n",
       "...              ...       ...       ...       ...       ...\n",
       "2022-12-16 -0.003871 -0.002411 -0.001894 -0.000563 -0.002685\n",
       "2022-12-19 -0.006209 -0.004004  0.000695 -0.001006 -0.002041\n",
       "2022-12-20  0.006674  0.001884  0.000383 -0.000826 -0.000344\n",
       "2022-12-21  0.004081  0.001152 -0.000764  0.000320  0.000688\n",
       "2022-12-22 -0.007246 -0.003013  0.000622 -0.000255 -0.000686\n",
       "\n",
       "[1003 rows x 5 columns]"
      ]
     },
     "execution_count": 78,
     "metadata": {},
     "output_type": "execute_result"
    }
   ],
   "source": [
    "WeightedFrame=pd.DataFrame(weightedreturn).T\n",
    "WeightedFrame"
   ]
  },
  {
   "cell_type": "code",
   "execution_count": 94,
   "id": "ed387254",
   "metadata": {},
   "outputs": [
    {
     "data": {
      "text/plain": [
       "-0.03369763846921945"
      ]
     },
     "execution_count": 94,
     "metadata": {},
     "output_type": "execute_result"
    }
   ],
   "source": [
    "WeightedFrame.iloc[1,:].sum()"
   ]
  },
  {
   "cell_type": "code",
   "execution_count": 89,
   "id": "a25a049c",
   "metadata": {},
   "outputs": [
    {
     "data": {
      "text/plain": [
       "Date\n",
       "2019-01-02         NaN\n",
       "2019-01-03   -0.033698\n",
       "2019-01-04    0.090849\n",
       "2019-01-07    0.101714\n",
       "2019-01-08    0.051544\n",
       "                ...   \n",
       "2022-12-16   -0.045695\n",
       "2022-12-19   -0.050260\n",
       "2022-12-20    0.031088\n",
       "2022-12-21    0.021910\n",
       "2022-12-22   -0.042315\n",
       "Length: 1003, dtype: float64"
      ]
     },
     "execution_count": 89,
     "metadata": {},
     "output_type": "execute_result"
    }
   ],
   "source": [
    "av=0\n",
    "for ivalue in range(len(list(returns.columns))):\n",
    "    av=av+WeightedFrame.iloc[:,ivalue]\n",
    "\n",
    "av    "
   ]
  },
  {
   "cell_type": "code",
   "execution_count": 97,
   "id": "d482e31f",
   "metadata": {},
   "outputs": [
    {
     "data": {
      "text/html": [
       "<div>\n",
       "<style scoped>\n",
       "    .dataframe tbody tr th:only-of-type {\n",
       "        vertical-align: middle;\n",
       "    }\n",
       "\n",
       "    .dataframe tbody tr th {\n",
       "        vertical-align: top;\n",
       "    }\n",
       "\n",
       "    .dataframe thead th {\n",
       "        text-align: right;\n",
       "    }\n",
       "</style>\n",
       "<table border=\"1\" class=\"dataframe\">\n",
       "  <thead>\n",
       "    <tr style=\"text-align: right;\">\n",
       "      <th></th>\n",
       "      <th>0</th>\n",
       "    </tr>\n",
       "  </thead>\n",
       "  <tbody>\n",
       "    <tr>\n",
       "      <th>count</th>\n",
       "      <td>1002.000000</td>\n",
       "    </tr>\n",
       "    <tr>\n",
       "      <th>mean</th>\n",
       "      <td>0.002782</td>\n",
       "    </tr>\n",
       "    <tr>\n",
       "      <th>std</th>\n",
       "      <td>0.072595</td>\n",
       "    </tr>\n",
       "    <tr>\n",
       "      <th>min</th>\n",
       "      <td>-0.952364</td>\n",
       "    </tr>\n",
       "    <tr>\n",
       "      <th>25%</th>\n",
       "      <td>-0.016775</td>\n",
       "    </tr>\n",
       "    <tr>\n",
       "      <th>50%</th>\n",
       "      <td>0.005604</td>\n",
       "    </tr>\n",
       "    <tr>\n",
       "      <th>75%</th>\n",
       "      <td>0.023915</td>\n",
       "    </tr>\n",
       "    <tr>\n",
       "      <th>max</th>\n",
       "      <td>0.663107</td>\n",
       "    </tr>\n",
       "  </tbody>\n",
       "</table>\n",
       "</div>"
      ],
      "text/plain": [
       "                 0\n",
       "count  1002.000000\n",
       "mean      0.002782\n",
       "std       0.072595\n",
       "min      -0.952364\n",
       "25%      -0.016775\n",
       "50%       0.005604\n",
       "75%       0.023915\n",
       "max       0.663107"
      ]
     },
     "execution_count": 97,
     "metadata": {},
     "output_type": "execute_result"
    }
   ],
   "source": [
    "av.to_frame().dropna().describe() # here std at 0.07"
   ]
  },
  {
   "cell_type": "markdown",
   "id": "4ce6cef6",
   "metadata": {},
   "source": [
    "# add MonteCarlo Simulation"
   ]
  },
  {
   "cell_type": "code",
   "execution_count": 45,
   "id": "bd8790b3",
   "metadata": {},
   "outputs": [],
   "source": [
    "import datetime as dt, numpy as np, pandas as pd, matplotlib.pyplot as plt, scipy.stats as scs"
   ]
  },
  {
   "cell_type": "code",
   "execution_count": null,
   "id": "8d79cbc3",
   "metadata": {},
   "outputs": [],
   "source": [
    "# apply Geometric Brownian Montion for MonteCarlo"
   ]
  },
  {
   "cell_type": "code",
   "execution_count": 40,
   "id": "74110854",
   "metadata": {},
   "outputs": [],
   "source": [
    "# stockprice(t+1)=stockprice(t)* e ^ (d + a * R)\n",
    "# d=(riskfreerate-variance/2)*timeperiod(dt)\n",
    "# a=std x sqrt(dt)"
   ]
  },
  {
   "cell_type": "code",
   "execution_count": 98,
   "id": "0165be71",
   "metadata": {},
   "outputs": [],
   "source": [
    "numbersimulation=1000000\n",
    "rfr=0.0654\n",
    "#30 days\n",
    "time=30\n",
    "# standard deviation of return; we need to recalculated it later on \n",
    "examplevol=0.07\n",
    "examplestockprice=1\n"
   ]
  },
  {
   "cell_type": "code",
   "execution_count": 99,
   "id": "6715aada",
   "metadata": {},
   "outputs": [],
   "source": [
    "# one of random stocastic model"
   ]
  },
  {
   "cell_type": "code",
   "execution_count": 100,
   "id": "520e6ccd",
   "metadata": {},
   "outputs": [],
   "source": [
    "# soruce code and info regarding to Geometric Brownian Motion ---https://en.wikipedia.org/wiki/Geometric_Brownian_motion\n"
   ]
  },
  {
   "cell_type": "code",
   "execution_count": null,
   "id": "4a9f2da6",
   "metadata": {},
   "outputs": [],
   "source": [
    "#https://numpy.org/doc/stable/reference/random/generated/numpy.random.normal.html\n",
    "# info for numpy.random.normal"
   ]
  },
  {
   "cell_type": "code",
   "execution_count": 101,
   "id": "ba1b2b04",
   "metadata": {},
   "outputs": [],
   "source": [
    "d=(rfr-0.5*examplevol**2)*(time/252)\n",
    "a=examplevol*np.sqrt(time/252)\n",
    "#randomness\n",
    "#here we assuem it is 1 a standard normal distribution\n",
    "r=np.random.normal(0,1,(numbersimulation,1)) #1 is the demension for the simulation\n",
    "Modelreturn=examplestockprice*np.exp(d+a*r)"
   ]
  },
  {
   "attachments": {
    "image.png": {
     "image/png": "[encoded data removed]"
    }
   },
   "cell_type": "markdown",
   "id": "cd414cee",
   "metadata": {},
   "source": [
    "![image.png](attachment:image.png)"
   ]
  },
  {
   "cell_type": "code",
   "execution_count": 102,
   "id": "225e3d70",
   "metadata": {},
   "outputs": [
    {
     "data": {
      "text/plain": [
       "1000000"
      ]
     },
     "execution_count": 102,
     "metadata": {},
     "output_type": "execute_result"
    }
   ],
   "source": [
    "len(r)"
   ]
  },
  {
   "cell_type": "code",
   "execution_count": 103,
   "id": "a38b2382",
   "metadata": {
    "scrolled": true
   },
   "outputs": [
    {
     "data": {
      "text/plain": [
       "array([[1.00666827],\n",
       "       [0.99783304],\n",
       "       [0.99205419],\n",
       "       ...,\n",
       "       [1.00825811],\n",
       "       [0.99755738],\n",
       "       [1.04400894]])"
      ]
     },
     "execution_count": 103,
     "metadata": {},
     "output_type": "execute_result"
    }
   ],
   "source": [
    "Modelreturn"
   ]
  },
  {
   "cell_type": "code",
   "execution_count": 104,
   "id": "6f54de4a",
   "metadata": {
    "scrolled": true
   },
   "outputs": [
    {
     "data": {
      "text/plain": [
       "array([-0.07890641, -0.0651069 , -0.04761203, -0.03911477, -0.03167692,\n",
       "       -0.02317863])"
      ]
     },
     "execution_count": 104,
     "metadata": {},
     "output_type": "execute_result"
    }
   ],
   "source": [
    "# we can then calculate diff value at risk\n",
    "pers=[0.01,0.1,1.0,2.5,5.0,10.0]  # here imply is the percentage\n",
    "var=scs.scoreatpercentile(Modelreturn-1,pers) # -1 for the change\n",
    "var"
   ]
  },
  {
   "cell_type": "code",
   "execution_count": 105,
   "id": "e9ccbca1",
   "metadata": {},
   "outputs": [
    {
     "data": {
      "text/html": [
       "<div>\n",
       "<style scoped>\n",
       "    .dataframe tbody tr th:only-of-type {\n",
       "        vertical-align: middle;\n",
       "    }\n",
       "\n",
       "    .dataframe tbody tr th {\n",
       "        vertical-align: top;\n",
       "    }\n",
       "\n",
       "    .dataframe thead th {\n",
       "        text-align: right;\n",
       "    }\n",
       "</style>\n",
       "<table border=\"1\" class=\"dataframe\">\n",
       "  <thead>\n",
       "    <tr style=\"text-align: right;\">\n",
       "      <th></th>\n",
       "      <th>VaR</th>\n",
       "    </tr>\n",
       "  </thead>\n",
       "  <tbody>\n",
       "    <tr>\n",
       "      <th>0.01</th>\n",
       "      <td>-0.078906</td>\n",
       "    </tr>\n",
       "    <tr>\n",
       "      <th>0.10</th>\n",
       "      <td>-0.065107</td>\n",
       "    </tr>\n",
       "    <tr>\n",
       "      <th>1.00</th>\n",
       "      <td>-0.047612</td>\n",
       "    </tr>\n",
       "    <tr>\n",
       "      <th>2.50</th>\n",
       "      <td>-0.039115</td>\n",
       "    </tr>\n",
       "    <tr>\n",
       "      <th>5.00</th>\n",
       "      <td>-0.031677</td>\n",
       "    </tr>\n",
       "    <tr>\n",
       "      <th>10.00</th>\n",
       "      <td>-0.023179</td>\n",
       "    </tr>\n",
       "  </tbody>\n",
       "</table>\n",
       "</div>"
      ],
      "text/plain": [
       "            VaR\n",
       "0.01  -0.078906\n",
       "0.10  -0.065107\n",
       "1.00  -0.047612\n",
       "2.50  -0.039115\n",
       "5.00  -0.031677\n",
       "10.00 -0.023179"
      ]
     },
     "execution_count": 105,
     "metadata": {},
     "output_type": "execute_result"
    }
   ],
   "source": [
    "dfvar=pd.DataFrame(var,pers,columns=['VaR'])\n",
    "dfvar"
   ]
  },
  {
   "cell_type": "code",
   "execution_count": 118,
   "id": "86a1eb36",
   "metadata": {
    "scrolled": false
   },
   "outputs": [
    {
     "data": {
      "image/png": "[encoded data removed]",
      "text/plain": [
       "<Figure size 432x288 with 1 Axes>"
      ]
     },
     "metadata": {
      "needs_background": "light"
     },
     "output_type": "display_data"
    }
   ],
   "source": [
    "plt.hist(Modelreturn,density=True,bins=100,stacked=True,edgecolor='b') # dennsity to normalize the height of the bar it is very important \n",
    "#especailly when cross diff sample size\n",
    "plt.show()"
   ]
  },
  {
   "cell_type": "code",
   "execution_count": 119,
   "id": "938515e9",
   "metadata": {},
   "outputs": [
    {
     "data": {
      "image/png": "[encoded data removed]",
      "text/plain": [
       "<Figure size 432x288 with 1 Axes>"
      ]
     },
     "metadata": {
      "needs_background": "light"
     },
     "output_type": "display_data"
    }
   ],
   "source": [
    "plt.hist(Modelreturn,density=True,bins=100,stacked=True,edgecolor='b', log=True) # dennsity to normalize the height of the bar it is very important \n",
    "#especailly when cross diff sample size\n",
    "plt.show()\n",
    "# just for fine nad check with the tails"
   ]
  },
  {
   "cell_type": "code",
   "execution_count": 120,
   "id": "73f56b18",
   "metadata": {},
   "outputs": [],
   "source": [
    "#axvline stand for axis verticle line"
   ]
  },
  {
   "cell_type": "code",
   "execution_count": 106,
   "id": "c8486e39",
   "metadata": {},
   "outputs": [
    {
     "data": {
      "image/png": "[encoded data removed]",
      "text/plain": [
       "<Figure size 432x288 with 1 Axes>"
      ]
     },
     "metadata": {
      "needs_background": "light"
     },
     "output_type": "display_data"
    }
   ],
   "source": [
    "# we can also add additional line\n",
    "plt.hist(Modelreturn,density=True,bins=100)\n",
    "plt.axvline(dfvar.loc[0.01]['VaR']+1,color='r',linestyle='dashed',linewidth=2)\n",
    "plt.axvline(dfvar.loc[0.1]['VaR']+1,color='g',linestyle='dashed',linewidth=2)\n",
    "plt.axvline(dfvar.loc[1]['VaR']+1,color='b',linestyle='dashed',linewidth=2)\n",
    "plt.axvline(dfvar.loc[2.5]['VaR']+1,color='y',linestyle='dashed',linewidth=2)\n",
    "plt.axvline(dfvar.loc[5]['VaR']+1,color='c',linestyle='dashed',linewidth=2)\n",
    "plt.axvline(dfvar.loc[10]['VaR']+1,color='k',linestyle='dashed',linewidth=2)\n",
    "plt.ylabel('Frequency')\n",
    "plt.xlabel('Daily_return')\n",
    "plt.grid(True,linewidth=.4)\n",
    "plt.show()"
   ]
  },
  {
   "cell_type": "code",
   "execution_count": null,
   "id": "63ab121b",
   "metadata": {},
   "outputs": [],
   "source": [
    "# we can find more model for monte carlo simulation"
   ]
  },
  {
   "cell_type": "code",
   "execution_count": null,
   "id": "0d198094",
   "metadata": {},
   "outputs": [],
   "source": [
    "Mode"
   ]
  },
  {
   "cell_type": "markdown",
   "id": "69988681",
   "metadata": {},
   "source": [
    "# extension function considered to add Best weighting finder by loop or numpy"
   ]
  }
 ],
 "metadata": {
  "kernelspec": {
   "display_name": "Python 3 (ipykernel)",
   "language": "python",
   "name": "python3"
  },
  "language_info": {
   "codemirror_mode": {
    "name": "ipython",
    "version": 3
   },
   "file_extension": ".py",
   "mimetype": "text/x-python",
   "name": "python",
   "nbconvert_exporter": "python",
   "pygments_lexer": "ipython3",
   "version": "3.9.12"
  }
 },
 "nbformat": 4,
 "nbformat_minor": 5
}
